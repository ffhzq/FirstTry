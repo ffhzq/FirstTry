{
 "cells": [
  {
   "cell_type": "code",
   "execution_count": null,
   "id": "8c18a30f",
   "metadata": {
    "vscode": {
     "languageId": "powershell"
    }
   },
   "outputs": [],
   "source": [
    "git clone https://github.com/ultralytics/yolov5  # clone\n",
    "cd yolov5\n",
    "pip install -r requirements.txt  # install"
   ]
  },
  {
   "cell_type": "code",
   "execution_count": 4,
   "id": "94884ec4",
   "metadata": {},
   "outputs": [],
   "source": [
    "import os\n",
    "#from os.path import join, getsize\n",
    "import torch\n",
    "import numpy as np\n",
    "import random\n",
    "from  pylabel import importer\n",
    "from shutil import move"
   ]
  },
  {
   "cell_type": "code",
   "execution_count": 19,
   "id": "74d53c7e",
   "metadata": {},
   "outputs": [
    {
     "name": "stdout",
     "output_type": "stream",
     "text": [
      "There are 853 image files and 853 annotations files.\n",
      "True\n"
     ]
    }
   ],
   "source": [
    "CWDPath = os.getcwd()\n",
    "#print(CWDPath)\n",
    "DataPath = CWDPath + '\\\\archive\\\\'\n",
    "imagesPath = DataPath + 'images\\\\'\n",
    "annotationsPath = DataPath + 'annotations\\\\'\n",
    "labelsPath = DataPath + 'labels\\\\'\n",
    "numOfImages = len(os.listdir(imagesPath))\n",
    "numOfAnnotations = len(os.listdir(annotationsPath))\n",
    "print(\"There are\", numOfImages, \"image files and\", numOfAnnotations, \"annotations files.\")\n",
    "print(numOfImages==numOfAnnotations)"
   ]
  },
  {
   "cell_type": "code",
   "execution_count": 21,
   "id": "c54fbdde",
   "metadata": {},
   "outputs": [],
   "source": [
    "trainImgPath = imagesPath + 'Training\\\\'\n",
    "trainLabelPath = labelsPath + 'Training\\\\'\n",
    "os.makedirs(trainImgPath, exist_ok = True)\n",
    "os.makedirs(trainLabelPath, exist_ok= True)\n",
    "#print(trainImgPath)\n",
    "validationImgPath = imagesPath + 'Validation\\\\'\n",
    "validationLabelPath = labelsPath + 'Validation\\\\'\n",
    "os.makedirs(validationImgPath, exist_ok = True)\n",
    "os.makedirs(validationLabelPath, exist_ok= True)\n",
    "\n",
    "testImgPath = imagesPath + 'Test\\\\'\n",
    "testLabelPath = labelsPath + 'Test\\\\'\n",
    "os.makedirs(testImgPath, exist_ok = True)\n",
    "os.makedirs(testLabelPath, exist_ok= True)"
   ]
  },
  {
   "cell_type": "code",
   "execution_count": 22,
   "id": "61cfa0cd",
   "metadata": {},
   "outputs": [],
   "source": [
    "OriginalLabels = importer.ImportVOC(annotationsPath)\n",
    "YoloLabelsPath = OriginalLabels.export.ExportToYoloV5(trainLabelPath)"
   ]
  },
  {
   "cell_type": "code",
   "execution_count": 23,
   "id": "d0d78059",
   "metadata": {},
   "outputs": [],
   "source": [
    "#Split the dataset into 6 2 2 Or 8 2 Or 8 1.8 0.2\n",
    "from torch import rand\n",
    "\n",
    "\n",
    "trainDataSize = int(0.8 * numOfImages)\n",
    "testDataSize = numOfImages - trainDataSize\n",
    "validationDataSize = int(testDataSize*0.1)\n",
    "\n",
    "indexList = list(range(numOfImages))\n",
    "random.seed(0)\n",
    "random.shuffle(indexList)\n",
    "trainList = indexList[:trainDataSize]\n",
    "valList = indexList[trainDataSize:trainDataSize+validationDataSize]\n",
    "testList = indexList[trainDataSize+validationDataSize:]\n",
    "\n",
    "\n",
    "for index in trainList:\n",
    "    imageName = f'maksssksksss{index}.png'\n",
    "    move(imagesPath + imageName, trainImgPath + imageName)\n",
    "\n",
    "for index in valList:\n",
    "    imageName = f'maksssksksss{index}.png'\n",
    "    labelName = f'maksssksksss{index}.txt'\n",
    "    move(imagesPath + imageName, validationImgPath + imageName)\n",
    "    move(trainLabelPath + labelName, validationLabelPath + labelName)\n",
    "\n",
    "\n",
    "for index in testList:\n",
    "    imageName = f'maksssksksss{index}.png'\n",
    "    labelName = f'maksssksksss{index}.txt'\n",
    "    move(imagesPath + imageName, testImgPath + imageName)\n",
    "    move(trainLabelPath + labelName, testLabelPath + labelName)\n",
    "\n"
   ]
  },
  {
   "cell_type": "code",
   "execution_count": 24,
   "id": "f60eeddd",
   "metadata": {},
   "outputs": [
    {
     "name": "stdout",
     "output_type": "stream",
     "text": [
      "trainImgNum:682 == trainLabelNum:682\t True\n",
      "testImgNum:154 == testLabelNum:154\t True\n"
     ]
    }
   ],
   "source": [
    "l1, l2 = len(os.listdir(trainImgPath)), len(os.listdir(trainLabelPath))\n",
    "print(f'trainImgNum:{l1} == trainLabelNum:{l2}\\t {l1==l2}')\n",
    "l3, l4 = len(os.listdir(testImgPath)), len(os.listdir(testLabelPath))\n",
    "print(f'testImgNum:{l3} == testLabelNum:{l4}\\t {l3==l4}')"
   ]
  },
  {
   "cell_type": "code",
   "execution_count": 26,
   "id": "e642cbcc",
   "metadata": {},
   "outputs": [
    {
     "name": "stdout",
     "output_type": "stream",
     "text": [
      "classnames:['without_mask', 'with_mask', 'mask_weared_incorrect']\n"
     ]
    }
   ],
   "source": [
    "classnames = []\n",
    "with open(labelsPath + 'dataset.yaml', 'r') as configFile:\n",
    "    for line in configFile:\n",
    "        if \"- \" in line:\n",
    "            classname = line.split()[1]\n",
    "            classnames.append(classname)\n",
    "print(f'classnames:{classnames}')\n",
    "with open(labelsPath + 'FirstTry.yaml', 'w') as configFile:\n",
    "    configFile.write(f'path: {DataPath}\\n')\n",
    "    configFile.write(f'train: images\\\\Training\\n')\n",
    "    configFile.write(f'val: images\\\\Validation\\n')\n",
    "    configFile.write(f'test: images\\\\Test\\n\\n')\n",
    "    configFile.write(f'names:\\n 0: {classnames[0]}\\n 1: {classnames[1]}\\n 2: {classnames[2]}')"
   ]
  },
  {
   "cell_type": "code",
   "execution_count": null,
   "id": "690d992c",
   "metadata": {
    "vscode": {
     "languageId": "powershell"
    }
   },
   "outputs": [],
   "source": [
    "python  ./yolov5/train.py --data ./archive/labels/FirstTry.yaml --weights yolov5s.pt --workers 1"
   ]
  },
  {
   "cell_type": "code",
   "execution_count": null,
   "id": "53e10773",
   "metadata": {
    "vscode": {
     "languageId": "powershell"
    }
   },
   "outputs": [],
   "source": [
    "python ./yolov5/val.py  --data ./archive/labels/FirstTry.yaml --weights ./yolov5/runs/train/exp5/weights/best.pt"
   ]
  },
  {
   "cell_type": "code",
   "execution_count": null,
   "id": "66865ca3",
   "metadata": {
    "vscode": {
     "languageId": "powershell"
    }
   },
   "outputs": [],
   "source": [
    "python ./yolov5/detect.py --source ./archive/images/Test --weights ./yolov5/runs/train/exp5/weights/best.pt"
   ]
  }
 ],
 "metadata": {
  "kernelspec": {
   "display_name": "Python 3.9.13 64-bit",
   "language": "python",
   "name": "python3"
  },
  "language_info": {
   "codemirror_mode": {
    "name": "ipython",
    "version": 3
   },
   "file_extension": ".py",
   "mimetype": "text/x-python",
   "name": "python",
   "nbconvert_exporter": "python",
   "pygments_lexer": "ipython3",
   "version": "3.9.13"
  },
  "vscode": {
   "interpreter": {
    "hash": "16b60c00b84b7a963a7f3d0b1cf497fcdb0516424d83dcf2351523ed124eef8a"
   }
  }
 },
 "nbformat": 4,
 "nbformat_minor": 5
}
