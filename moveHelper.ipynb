{
 "cells": [
  {
   "cell_type": "markdown",
   "metadata": {},
   "source": [
    "先下载数据到目录下解压，再运行"
   ]
  },
  {
   "cell_type": "code",
   "execution_count": 1,
   "metadata": {},
   "outputs": [],
   "source": [
    "import os"
   ]
  },
  {
   "cell_type": "code",
   "execution_count": 3,
   "metadata": {},
   "outputs": [],
   "source": [
    "CWDPath = os.getcwd()\n",
    "#print(CWDPath)\n",
    "DataPath = CWDPath + '\\\\archive\\\\'\n",
    "imagesPath = DataPath + 'images\\\\'\n",
    "annotationsPath = DataPath + 'annotations\\\\'\n",
    "labelsPath = DataPath + 'labels\\\\'\n",
    "\n",
    "\n",
    "trainImgPath = imagesPath + 'Training\\\\'\n",
    "trainLabelPath = labelsPath + 'Training\\\\'\n",
    "os.makedirs(trainImgPath, exist_ok = True)\n",
    "os.makedirs(trainLabelPath, exist_ok= True)\n",
    "#print(trainImgPath)\n",
    "validationImgPath = imagesPath + 'Validation\\\\'\n",
    "validationLabelPath = labelsPath + 'Validation\\\\'\n",
    "os.makedirs(validationImgPath, exist_ok = True)\n",
    "os.makedirs(validationLabelPath, exist_ok= True)\n",
    "\n",
    "testImgPath = imagesPath + 'Test\\\\'\n",
    "testLabelPath = labelsPath + 'Test\\\\'\n",
    "os.makedirs(testImgPath, exist_ok = True)\n",
    "os.makedirs(testLabelPath, exist_ok= True)\n",
    "\n",
    "mainPath = CWDPath + '\\\\archive\\\\labels\\\\'\n",
    "trainPath = mainPath +'\\\\Training'\n",
    "validPath = mainPath +'\\\\Validation'\n",
    "testPath = mainPath + '\\\\Test'\n",
    "\n",
    "trainFileName = os.listdir(trainPath)\n",
    "validFileName = os.listdir(validPath)\n",
    "testFileName = os.listdir(testPath)\n",
    "\n",
    "List1 = []\n",
    "List2 = []\n",
    "List3 = []\n",
    "\n",
    "configName = CWDPath + '\\\\datasetImigration.txt'"
   ]
  },
  {
   "cell_type": "code",
   "execution_count": 4,
   "metadata": {},
   "outputs": [],
   "source": [
    "#不用跑这块\n",
    "for i in trainFileName:\n",
    "    List1.append(i[:len(i)-len('.txt')])\n",
    "for i in validFileName:\n",
    "    List2.append(i[:len(i)-len('.txt')])\n",
    "for i in testFileName:\n",
    "    List3.append(i[:len(i)-len('.txt')])\n",
    "\n",
    "with open(configName, 'w') as configFile:\n",
    "    configFile.write(f'train\\n')\n",
    "    for i in List1:\n",
    "        configFile.write(i+'\\n')\n",
    "    configFile.write(f'val\\n')\n",
    "    for i in List2:\n",
    "        configFile.write(i+'\\n')\n",
    "    configFile.write(f'test\\n')\n",
    "    for i in List3:\n",
    "        configFile.write(i+'\\n')"
   ]
  },
  {
   "cell_type": "code",
   "execution_count": 4,
   "metadata": {},
   "outputs": [],
   "source": [
    "f = open(configName,'r')\n",
    "\n",
    "MList1 = []\n",
    "MList2 = []\n",
    "MList3 = []\n",
    "\n",
    "lines = f.readlines()\n",
    "t = 0\n",
    "\n",
    "for line in lines:\n",
    "    line = line.strip('\\n')\n",
    "    if line == \"train\":\n",
    "        t = 1\n",
    "    elif line == \"val\":\n",
    "        t = 2\n",
    "    elif line == \"test\":\n",
    "        t = 3\n",
    "    else:\n",
    "        if t==1:\n",
    "            MList1.append(line)\n",
    "        elif t==2:\n",
    "            MList2.append(line)\n",
    "        elif t==3:\n",
    "            MList3.append(line)\n"
   ]
  },
  {
   "cell_type": "code",
   "execution_count": 5,
   "metadata": {},
   "outputs": [],
   "source": [
    "from shutil import move\n",
    "\n",
    "for name in MList1:\n",
    "    imageName = f'{name}.png'\n",
    "    move(imagesPath + imageName, trainImgPath + imageName)\n",
    "\n",
    "for name in MList2:\n",
    "    imageName = f'{name}.png'\n",
    "    labelName = f'{name}.txt'\n",
    "    move(imagesPath + imageName, validationImgPath + imageName)\n",
    "\n",
    "\n",
    "for name in MList3:\n",
    "    imageName = f'{name}.png'\n",
    "    labelName = f'{name}.txt'\n",
    "    move(imagesPath + imageName, testImgPath + imageName)"
   ]
  }
 ],
 "metadata": {
  "kernelspec": {
   "display_name": "Python 3.9.13 64-bit",
   "language": "python",
   "name": "python3"
  },
  "language_info": {
   "codemirror_mode": {
    "name": "ipython",
    "version": 3
   },
   "file_extension": ".py",
   "mimetype": "text/x-python",
   "name": "python",
   "nbconvert_exporter": "python",
   "pygments_lexer": "ipython3",
   "version": "3.9.13"
  },
  "orig_nbformat": 4,
  "vscode": {
   "interpreter": {
    "hash": "16b60c00b84b7a963a7f3d0b1cf497fcdb0516424d83dcf2351523ed124eef8a"
   }
  }
 },
 "nbformat": 4,
 "nbformat_minor": 2
}
